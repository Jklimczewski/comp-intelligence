{
 "cells": [
  {
   "attachments": {},
   "cell_type": "markdown",
   "metadata": {},
   "source": [
    "# 1 Wstęp\n",
    "\n",
    "## 1.1 Wybór DataSetu\n",
    "### Baza danych, którą wybrałem, zawiera informacje o zawodnikach crossfit. Posiada około 400 tysięcy wierszy oraz 27 kolumn z różnymi danymi, opisowymi i numerycznymi. \n",
    "### Dodatkowo baza jest dość mocno 'popsuta', zawiera dużo pustych wartości oraz skrajnych błędnych danych.\n",
    "## 1.2 Wybór pola do analizy\n",
    "### Postanowiłem na podstawie analizowanych danych pozwolić klasyfikatorom decydować czy dana osoba jest kobietą czy mężczyzną. Procent poprawności zgadywania powinien być zadowalający, gdyż wyniki sportowe w konkurencjach siłowych dość mocno zależą od płci zawodnika."
   ]
  },
  {
   "attachments": {},
   "cell_type": "markdown",
   "metadata": {},
   "source": [
    "# 2 Program do klasyfikacji danych\n",
    "## Import paczek i załadowanie danych wejściowych"
   ]
  },
  {
   "cell_type": "code",
   "execution_count": 20,
   "metadata": {},
   "outputs": [],
   "source": [
    "import pandas as pd\n",
    "import numpy as np\n",
    "import matplotlib.pyplot as plt\n",
    "import pydot\n",
    "from sklearn.model_selection import train_test_split\n",
    "from sklearn import tree, metrics\n",
    "from sklearn.naive_bayes import GaussianNB\n",
    "from sklearn.neighbors import KNeighborsClassifier\n",
    "from sklearn.neural_network import MLPClassifier\n",
    "from sklearn.preprocessing import MinMaxScaler\n",
    "\n",
    "df = pd.read_csv(\"C:/infa/zajecia/4 semestr/io/projekt2/athletes.csv\")\n",
    "df2 = df.copy()"
   ]
  },
  {
   "attachments": {},
   "cell_type": "markdown",
   "metadata": {},
   "source": [
    "## 2.1 Pierwszy model preprocessingu\n",
    "### W pierwszym podejściu, bardziej przetworzoną bazą danych, poza koniecznymi elementami, oczyszczam dane z wszystkich nieoczekiwanych wartości.\n",
    "### 2.1.1 Usunięcie fałszywych danych:\n",
    "#### - metodą 'z-scores' analizuję potrzebne mi kolumny\n",
    "#### - następnie sprawdzając otrzymane wyniki, dostosowuje parametr który decyduje jakie dane są traktowane jako 'outliers' (skrajne)\n",
    "#### - tak otrzymane dane usuwam, zastępując je wartościami NaN"
   ]
  },
  {
   "cell_type": "code",
   "execution_count": 21,
   "metadata": {},
   "outputs": [
    {
     "name": "stdout",
     "output_type": "stream",
     "text": [
      "4446      115.0\n",
      "27115     125.0\n",
      "358673    124.0\n",
      "363267    125.0\n",
      "364750    124.0\n",
      "371122    123.0\n",
      "382443     98.0\n",
      "404768    124.0\n",
      "Name: age, dtype: float64\n"
     ]
    }
   ],
   "source": [
    "age_z_scores =  np.abs((df.age - df.age.mean())/df.age.std(ddof=1))\n",
    "height_z_scores =  np.abs((df.height - df.height.mean())/df.height.std(ddof=1))\n",
    "weight_z_scores =  np.abs((df.weight - df.weight.mean())/df.weight.std(ddof=1))\n",
    "candj_z_scores =  np.abs((df.candj - df.candj.mean())/df.candj.std(ddof=1))\n",
    "snatch_z_scores =  np.abs((df.snatch - df.snatch.mean())/df.snatch.std(ddof=1))\n",
    "deadlift_z_scores =  np.abs((df.deadlift - df.deadlift.mean())/df.deadlift.std(ddof=1))\n",
    "backsq_z_scores =  np.abs((df.backsq - df.backsq.mean())/df.backsq.std(ddof=1))\n",
    "pullups_z_scores =  np.abs((df.pullups - df.pullups.mean())/df.pullups.std(ddof=1))\n",
    "\n",
    "age_outliers = df[age_z_scores > 4]\n",
    "height_outliers = df[height_z_scores > 0.003]\n",
    "weight_outliers = df[weight_z_scores > 2]\n",
    "candj_outliers = df[candj_z_scores > 0.01]\n",
    "snatch_outliers = df[snatch_z_scores > 0.01]\n",
    "deadlift_outliers = df[deadlift_z_scores > 0.01]\n",
    "backsq_outliers = df[backsq_z_scores > 0.01]\n",
    "pullups_outliers = df[pullups_z_scores > 0.00447254]\n",
    "\n",
    "print(age_outliers['age'])\n",
    "\n",
    "df.loc[age_outliers.index, 'age'] = np.nan\n",
    "df.loc[weight_outliers.index, 'weight'] = np.nan\n",
    "df.loc[height_outliers.index, 'height'] = np.nan\n",
    "df.loc[candj_outliers.index, 'candj'] = np.nan\n",
    "df.loc[snatch_outliers.index, 'snatch'] = np.nan\n",
    "df.loc[deadlift_outliers.index, 'deadlift'] = np.nan\n",
    "df.loc[backsq_outliers.index, 'backsq'] = np.nan\n",
    "df.loc[pullups_outliers.index, 'pullups'] = np.nan"
   ]
  },
  {
   "attachments": {},
   "cell_type": "markdown",
   "metadata": {},
   "source": [
    "#### Oto przykład usuniętych błędnych danych. Nie jest to wysoce prawdopodobne, aby zawodnicy mieli powyżej 100 lat."
   ]
  },
  {
   "attachments": {},
   "cell_type": "markdown",
   "metadata": {},
   "source": [
    "### 2.1.2 Usunięcie pustych danych\n",
    "#### - najpierw usuwam rekordy, które mają połowę pustych danych, taki wiersz możemy uznać za przypadkowy i niewartościowy\n",
    "#### - następnie usuwam wszystkie niepotrzebne mi kolumny, a więc opisowe oraz takie, które nie wnoszą nic do mojej klasyfikacji\n",
    "#### - dodatkowo usuwam wiersze, które w najważniejszym polu płci posiadają błąd lub są puste\n",
    "#### - finalnie grupuje wszystkie potrzebne mi dane według płci oraz obliczam poszczególne średnie wartości 'mean'\n",
    "#### - uzupełniam wszystkie puste wartości tak otrzymanymi średnimi, sprawdzając najpierw płeć sportowca"
   ]
  },
  {
   "cell_type": "code",
   "execution_count": 22,
   "metadata": {},
   "outputs": [
    {
     "name": "stdout",
     "output_type": "stream",
     "text": [
      "gender\n",
      "Female    245.254366\n",
      "Male      397.214158\n",
      "Name: deadlift, dtype: float64\n"
     ]
    }
   ],
   "source": [
    "df = df.dropna(thresh=14)\n",
    "df = df[(df['gender'] == 'Male') | (df['gender'] == 'Female')]\n",
    "df.drop(['athlete_id', 'eat', 'train', 'background', 'experience', 'schedule', 'howlong', 'fran', 'helen', 'grace',\t'filthy50',\n",
    "         'fgonebad', 'run400', 'run5k', 'name', 'region', 'team', 'affiliate'], axis=1, inplace=True)\n",
    "\n",
    "mean_age_by_gender = df.groupby('gender')['age'].mean()\n",
    "df['age'] = df.groupby('gender')['age'].transform(lambda x: x.fillna(x.mean()))\n",
    "mean_weight_by_gender = df.groupby('gender')['weight'].mean()\n",
    "df['weight'] = df.groupby('gender')['weight'].transform(lambda x: x.fillna(x.mean()))\n",
    "mean_height_by_gender = df.groupby('gender')['height'].mean()\n",
    "df['height'] = df.groupby('gender')['height'].transform(lambda x: x.fillna(x.mean()))\n",
    "mean_candj_by_gender = df.groupby('gender')['candj'].mean()\n",
    "df['candj'] = df.groupby('gender')['candj'].transform(lambda x: x.fillna(x.mean()))\n",
    "mean_snatch_by_gender = df.groupby('gender')['snatch'].mean()\n",
    "df['snatch'] = df.groupby('gender')['snatch'].transform(lambda x: x.fillna(x.mean()))\n",
    "mean_deadlift_by_gender = df.groupby('gender')['deadlift'].mean()\n",
    "df['deadlift'] = df.groupby('gender')['deadlift'].transform(lambda x: x.fillna(x.mean()))\n",
    "mean_backsq_by_gender = df.groupby('gender')['backsq'].mean()\n",
    "df['backsq'] = df.groupby('gender')['backsq'].transform(lambda x: x.fillna(x.mean()))\n",
    "mean_pullups_by_gender = df.groupby('gender')['pullups'].mean()\n",
    "df['pullups'] = df.groupby('gender')['pullups'].transform(lambda x: x.fillna(x.mean()))\n",
    "\n",
    "print(mean_deadlift_by_gender)"
   ]
  },
  {
   "attachments": {},
   "cell_type": "markdown",
   "metadata": {},
   "source": [
    "#### Oto przykład średnich wyników w martwym ciągu po uwzględieniu płci.\n",
    "#### Baza danych jest kompletna i gotowa do analizy !"
   ]
  },
  {
   "attachments": {},
   "cell_type": "markdown",
   "metadata": {},
   "source": [
    "### 2.1.3 Klasyfikacja\n",
    "#### Dzielę bazę na zbiór treningowy oraz testowy. Jako ostatni etap preprocessingu przepuszczam dane przez 'Scaler' i poddaje normalizacji."
   ]
  },
  {
   "cell_type": "code",
   "execution_count": 23,
   "metadata": {},
   "outputs": [],
   "source": [
    "(train_set, test_set) = train_test_split(df.values, train_size=0.7)\n",
    "train_inputs = np.delete(train_set, 0, axis=1)\n",
    "train_classes = train_set[:, 0]\n",
    "test_inputs = np.delete(test_set, 0, axis=1)\n",
    "test_classes = test_set[:, 0]\n",
    "\n",
    "sc = MinMaxScaler()\n",
    "train_inputs = sc.fit_transform(train_inputs)\n",
    "test_inputs = sc.transform(test_inputs)"
   ]
  },
  {
   "attachments": {},
   "cell_type": "markdown",
   "metadata": {},
   "source": [
    "#### Wywołuje wszystkie potrzebne mi klasyfikatory do testowania, które uczę na zbiorze treningowym: \n",
    "#### - Drzewo decyzyjne (w wersji mniejszej z przyciętymi gałęziami i większej)\n",
    "#### - Naiwny Bayes\n",
    "#### - K-Najbliższych Sąsiadów dla k = 3,5 oraz 11\n",
    "#### - Sieć neuronowa dla różnych topologii i konfiguracji uczenia"
   ]
  },
  {
   "cell_type": "code",
   "execution_count": null,
   "metadata": {},
   "outputs": [],
   "source": [
    "dtc = tree.DecisionTreeClassifier()\n",
    "dtc2 = tree.DecisionTreeClassifier(max_depth=2)\n",
    "naive_bay = GaussianNB()\n",
    "knn3 = KNeighborsClassifier(n_neighbors=3, metric='euclidean')\n",
    "knn5 = KNeighborsClassifier(n_neighbors=5, metric='euclidean')\n",
    "knn11 = KNeighborsClassifier(n_neighbors=11, metric='euclidean')\n",
    "mlp = MLPClassifier(hidden_layer_sizes=(2), activation='relu', max_iter=500, validation_fraction=0.1, early_stopping=True)\n",
    "mlp2 = MLPClassifier(hidden_layer_sizes=(3), activation='tanh', max_iter=500, validation_fraction=0.1, early_stopping=True)\n",
    "mlp3 = MLPClassifier(hidden_layer_sizes=(6, 3), activation='logistic', max_iter=500, validation_fraction=0.1, early_stopping=True)\n",
    "\n",
    "dtc.fit(train_inputs, train_classes)\n",
    "dtc2.fit(train_inputs, train_classes)\n",
    "naive_bay.fit(train_inputs, train_classes)\n",
    "knn3.fit(train_inputs, train_classes)\n",
    "knn5.fit(train_inputs, train_classes)\n",
    "knn11.fit(train_inputs, train_classes)\n",
    "mlp.fit(train_inputs, train_classes)\n",
    "mlp2.fit(train_inputs, train_classes)\n",
    "mlp3.fit(train_inputs, train_classes)"
   ]
  },
  {
   "attachments": {},
   "cell_type": "markdown",
   "metadata": {},
   "source": [
    "#### Rysuję krzywe uczenia się sieci neuronowych, uwzględniając zbiór treningowy oraz walidacyjny:"
   ]
  },
  {
   "cell_type": "code",
   "execution_count": 25,
   "metadata": {},
   "outputs": [
    {
     "data": {
      "image/png": "[encoded data removed]",
      "text/plain": [
       "<Figure size 640x480 with 3 Axes>"
      ]
     },
     "metadata": {},
     "output_type": "display_data"
    }
   ],
   "source": [
    "loss_curve = mlp.loss_curve_\n",
    "val_loss = mlp.validation_scores_\n",
    "loss_curve2 = mlp2.loss_curve_\n",
    "val_loss2 = mlp2.validation_scores_\n",
    "loss_curve3 = mlp3.loss_curve_\n",
    "val_loss3 = mlp3.validation_scores_\n",
    "\n",
    "plt.subplot(1, 3, 1)\n",
    "plt.plot(loss_curve)\n",
    "plt.plot(val_loss)\n",
    "plt.title('Loss Curve1')\n",
    "plt.xlabel('Epoch')\n",
    "plt.ylabel('Loss')\n",
    "plt.legend(['Training', 'Validation'], loc='right')\n",
    "\n",
    "plt.subplot(1, 3, 2)\n",
    "plt.plot(loss_curve2)\n",
    "plt.plot(val_loss2)\n",
    "plt.title('Loss Curve2')\n",
    "plt.xlabel('Epoch')\n",
    "plt.ylabel('Loss')\n",
    "plt.legend(['Training', 'Validation'], loc='right')\n",
    "\n",
    "plt.subplot(1, 3, 3)\n",
    "plt.plot(loss_curve3)\n",
    "plt.plot(val_loss3)\n",
    "plt.title('Loss Curve3')\n",
    "plt.xlabel('Epoch')\n",
    "plt.ylabel('Loss')\n",
    "plt.legend(['Training', 'Validation'], loc='right')\n",
    "\n",
    "plt.tight_layout()\n",
    "plt.show()"
   ]
  },
  {
   "attachments": {},
   "cell_type": "markdown",
   "metadata": {},
   "source": [
    "#### Następnie testuję każdy z klasyfikatorów na zbiorze testowym i wyświetlam wyniki. Oto procenty ich poprawności."
   ]
  },
  {
   "cell_type": "code",
   "execution_count": 26,
   "metadata": {},
   "outputs": [
    {
     "name": "stdout",
     "output_type": "stream",
     "text": [
      "Procent poprawności dla DTC w większej wersji drzewa:  0.975808521560575 \n",
      "\n",
      "Procent poprawności dla DTC w mniejsze wersji drzewa:  0.9445264373716632 \n",
      "\n",
      "Procent poprawności dla Naive Bayes:  0.945424794661191 \n",
      "\n",
      "Procent poprawności dla KNN przy k=3:  0.9617556468172485 \n",
      "\n",
      "Procent poprawności dla KNN przy k=5:  0.9637448665297741 \n",
      "\n",
      "Procent poprawności dla KNN przy k=11:  0.9642902977412731 \n",
      "\n",
      "Procent poprawności dla MLP przy 2 neuronach w warstwie:  0.9594135010266941 \n",
      "\n",
      "Procent poprawności dla MLP przy 3 neuronach w warstwie:  0.9583547227926078 \n",
      "\n",
      "Procent poprawności dla MLP przy 2 warstwach z (6, 3) neuronami:  0.9586755646817249 \n",
      "\n"
     ]
    }
   ],
   "source": [
    "dtc_accuracy = dtc.score(test_inputs, test_classes)\n",
    "dtc2_accuracy = dtc2.score(test_inputs, test_classes)\n",
    "naive_bay_accuracy = naive_bay.score(test_inputs, test_classes)\n",
    "knn3_accuracy = knn3.score(test_inputs, test_classes)\n",
    "knn5_accuracy = knn5.score(test_inputs, test_classes)\n",
    "knn11_accuracy = knn11.score(test_inputs, test_classes)\n",
    "mlp_accuracy = mlp.score(test_inputs, test_classes)\n",
    "mlp2_accuracy = mlp2.score(test_inputs, test_classes)\n",
    "mlp3_accuracy = mlp3.score(test_inputs, test_classes)\n",
    "print(\"Procent poprawności dla DTC w większej wersji drzewa: \", dtc_accuracy, \"\\n\")\n",
    "print(\"Procent poprawności dla DTC w mniejsze wersji drzewa: \", dtc2_accuracy, \"\\n\")\n",
    "print(\"Procent poprawności dla Naive Bayes: \", naive_bay_accuracy, \"\\n\")\n",
    "print(\"Procent poprawności dla KNN przy k=3: \", knn3_accuracy, \"\\n\")\n",
    "print(\"Procent poprawności dla KNN przy k=5: \", knn5_accuracy, \"\\n\")\n",
    "print(\"Procent poprawności dla KNN przy k=11: \", knn11_accuracy, \"\\n\")\n",
    "print(\"Procent poprawności dla MLP przy 2 neuronach w warstwie: \", mlp_accuracy, \"\\n\")\n",
    "print(\"Procent poprawności dla MLP przy 3 neuronach w warstwie: \", mlp2_accuracy, \"\\n\")\n",
    "print(\"Procent poprawności dla MLP przy 2 warstwach z (6, 3) neuronami: \", mlp3_accuracy, \"\\n\")"
   ]
  },
  {
   "attachments": {},
   "cell_type": "markdown",
   "metadata": {},
   "source": [
    "#### Jak widać najlepszy wynik wyniósł 97,5 %, co wydaje się całkiem dobrym rezultatem. Co ciekawe, najlepszy oraz najgorszy procent poprawności przypada Drzewom Decyzyjnym, odpowiednio większemu oraz temu z przyciętymi gałęziami."
   ]
  },
  {
   "attachments": {},
   "cell_type": "markdown",
   "metadata": {},
   "source": [
    "#### Na koniec prezentuję jeszcze macierze błedów dla wszystkich klasyfikatorów."
   ]
  },
  {
   "cell_type": "code",
   "execution_count": 27,
   "metadata": {},
   "outputs": [
    {
     "name": "stdout",
     "output_type": "stream",
     "text": [
      "Macierz błędów dla DTC w większej wersji drzewa: \n",
      " [[ 9468   369]\n",
      " [  385 20946]]\n",
      "Macierz błędów dla DTC w mniejsze wersji drzewa: \n",
      " [[ 8716  1121]\n",
      " [  608 20723]]\n",
      "Macierz błędów dla Naive Bayes: \n",
      " [[ 9533   304]\n",
      " [ 1397 19934]]\n",
      "Macierz błędów dla KNN przy k=3: \n",
      " [[ 9343   494]\n",
      " [  698 20633]]\n",
      "Macierz błędów dla KNN przy k=5: \n",
      " [[ 9375   462]\n",
      " [  668 20663]]\n",
      "Macierz błędów dla KNN przy k=11: \n",
      " [[ 9395   442]\n",
      " [  671 20660]]\n",
      "Macierz błędów dla MLP przy 2 neuronach w warstwie: \n",
      " [[ 9253   584]\n",
      " [  681 20650]]\n",
      "Macierz błędow dla MLP przy 3 neuronach w warstwie: \n",
      " [[ 9219   618]\n",
      " [  680 20651]]\n",
      "Macierz błędów dla MLP przy 2 warstwach z (6, 3) neuronami: \n",
      " [[ 9274   563]\n",
      " [  725 20606]]\n"
     ]
    }
   ],
   "source": [
    "dtc_y_pred = dtc.predict(test_inputs)\n",
    "dtc2_y_pred = dtc2.predict(test_inputs)\n",
    "naive_bay_y_pred = naive_bay.predict(test_inputs)\n",
    "knn3_y_pred = knn3.predict(test_inputs)\n",
    "knn5_y_pred = knn5.predict(test_inputs)\n",
    "knn11_y_pred = knn11.predict(test_inputs)\n",
    "mlp_y_pred = mlp.predict(test_inputs)\n",
    "mlp2_y_pred = mlp2.predict(test_inputs)\n",
    "mlp3_y_pred = mlp3.predict(test_inputs)\n",
    "print(\"Macierz błędów dla DTC w większej wersji drzewa: \\n\", metrics.confusion_matrix(test_classes, dtc_y_pred))\n",
    "print(\"Macierz błędów dla DTC w mniejsze wersji drzewa: \\n\", metrics.confusion_matrix(test_classes, dtc2_y_pred))\n",
    "print(\"Macierz błędów dla Naive Bayes: \\n\", metrics.confusion_matrix(test_classes, naive_bay_y_pred))\n",
    "print(\"Macierz błędów dla KNN przy k=3: \\n\", metrics.confusion_matrix(test_classes, knn3_y_pred))\n",
    "print(\"Macierz błędów dla KNN przy k=5: \\n\", metrics.confusion_matrix(test_classes, knn5_y_pred))\n",
    "print(\"Macierz błędów dla KNN przy k=11: \\n\", metrics.confusion_matrix(test_classes, knn11_y_pred))\n",
    "print(\"Macierz błędów dla MLP przy 2 neuronach w warstwie: \\n\", metrics.confusion_matrix(test_classes, mlp_y_pred))\n",
    "print(\"Macierz błędow dla MLP przy 3 neuronach w warstwie: \\n\", metrics.confusion_matrix(test_classes, mlp2_y_pred))\n",
    "print(\"Macierz błędów dla MLP przy 2 warstwach z (6, 3) neuronami: \\n\", metrics.confusion_matrix(test_classes, mlp3_y_pred))"
   ]
  },
  {
   "attachments": {},
   "cell_type": "markdown",
   "metadata": {},
   "source": [
    "## 2.2 Drugi model preprocessingu\n",
    "### 2.2.1 Wstępna obróbka danych\n",
    "#### W drugim podejściu, mniej przetworzonym, wykonuje tylko konieczne kroki. Pomijam usuwanie skrajnych wartości. W miejsce pustych danych nie wstawiam grupowanych średnich, a jedynie ich wartości dla całej kolumny, co może w znacznym stopniu wpłynąć na analizę wyników. Dodatkowo pomijam skalowanie wartości."
   ]
  },
  {
   "cell_type": "code",
   "execution_count": 28,
   "metadata": {},
   "outputs": [],
   "source": [
    "df2 = df2.dropna(thresh=14)\n",
    "df2 = df2[(df2['gender'] == 'Male') | (df2['gender'] == 'Female')]\n",
    "df2.drop(['athlete_id', 'eat', 'train', 'background', 'experience', 'schedule', 'howlong', 'fran', 'helen', 'grace', 'filthy50',\n",
    "         'fgonebad', 'run400', 'run5k', 'name', 'region', 'team', 'affiliate'], axis=1, inplace=True)\n",
    "\n",
    "mean_age = df2['age'].mean()\n",
    "mean_weight = df2['weight'].mean()\n",
    "mean_height = df2['height'].mean()\n",
    "mean_candj = df2['candj'].mean()\n",
    "mean_snatch = df2['snatch'].mean()\n",
    "mean_deadlift = df2['deadlift'].mean()\n",
    "mean_backsq = df2['backsq'].mean()\n",
    "mean_pullups = df2['pullups'].mean()\n",
    "\n",
    "df2['age'] = df2['age'].fillna(mean_age)\n",
    "df2['weight'] = df2['weight'].fillna(mean_weight)\n",
    "df2['height'] = df2['height'].fillna(mean_height)\n",
    "df2['candj'] = df2['candj'].fillna(mean_candj)\n",
    "df2['snatch'] = df2['snatch'].fillna(mean_snatch)\n",
    "df2['deadlift'] = df2['deadlift'].fillna(mean_deadlift)\n",
    "df2['backsq'] = df2['backsq'].fillna(mean_backsq)\n",
    "df2['pullups'] = df2['pullups'].fillna(mean_pullups)"
   ]
  },
  {
   "attachments": {},
   "cell_type": "markdown",
   "metadata": {},
   "source": [
    "### 2.2.2 Klasyfikacja\n",
    "#### Jak poprzednio, dzielę zbiory na treningowy i testowy oraz wywołuje klasyfikatory z tymi samymi parametrami co w 1 podejścu."
   ]
  },
  {
   "cell_type": "code",
   "execution_count": 29,
   "metadata": {},
   "outputs": [],
   "source": [
    "(train_set, test_set) = train_test_split(df2.values, train_size=0.7)\n",
    "train_inputs = np.delete(train_set, 0, axis=1)\n",
    "train_classes = train_set[:, 0]\n",
    "test_inputs = np.delete(test_set, 0, axis=1)\n",
    "test_classes = test_set[:, 0]\n",
    "\n",
    "dtc = tree.DecisionTreeClassifier()\n",
    "dtc2 = tree.DecisionTreeClassifier(max_depth=2)\n",
    "naive_bay = GaussianNB()\n",
    "knn3 = KNeighborsClassifier(n_neighbors=3, metric='euclidean')\n",
    "knn5 = KNeighborsClassifier(n_neighbors=5, metric='euclidean')\n",
    "knn11 = KNeighborsClassifier(n_neighbors=11, metric='euclidean')\n",
    "mlp = MLPClassifier(hidden_layer_sizes=(2), activation='relu', max_iter=500, validation_fraction=0.1, early_stopping=True)\n",
    "mlp2 = MLPClassifier(hidden_layer_sizes=(3), activation='tanh', max_iter=500, validation_fraction=0.1, early_stopping=True)\n",
    "mlp3 = MLPClassifier(hidden_layer_sizes=(6, 3), activation='logistic', max_iter=500, validation_fraction=0.1, early_stopping=True)"
   ]
  },
  {
   "attachments": {},
   "cell_type": "markdown",
   "metadata": {},
   "source": [
    "#### Nauczam klasyfikatory na zbiorze treningowym i rysuję krzywe uczenia dla sieci neuronowych."
   ]
  },
  {
   "cell_type": "code",
   "execution_count": 30,
   "metadata": {},
   "outputs": [
    {
     "data": {
      "image/png": "[encoded data removed]",
      "text/plain": [
       "<Figure size 640x480 with 3 Axes>"
      ]
     },
     "metadata": {},
     "output_type": "display_data"
    }
   ],
   "source": [
    "dtc.fit(train_inputs, train_classes)\n",
    "dtc2.fit(train_inputs, train_classes)\n",
    "naive_bay.fit(train_inputs, train_classes)\n",
    "knn3.fit(train_inputs, train_classes)\n",
    "knn5.fit(train_inputs, train_classes)\n",
    "knn11.fit(train_inputs, train_classes)\n",
    "mlp.fit(train_inputs, train_classes)\n",
    "mlp2.fit(train_inputs, train_classes)\n",
    "mlp3.fit(train_inputs, train_classes)\n",
    "\n",
    "loss_curve = mlp.loss_curve_\n",
    "val_loss = mlp.validation_scores_\n",
    "loss_curve2 = mlp2.loss_curve_\n",
    "val_loss2 = mlp2.validation_scores_\n",
    "loss_curve3 = mlp3.loss_curve_\n",
    "val_loss3 = mlp3.validation_scores_\n",
    "\n",
    "plt.subplot(1, 3, 1)\n",
    "plt.plot(loss_curve)\n",
    "plt.plot(val_loss)\n",
    "plt.title('Loss Curve1')\n",
    "plt.xlabel('Epoch')\n",
    "plt.ylabel('Loss')\n",
    "plt.legend(['Training', 'Validation'], loc='upper right')\n",
    "\n",
    "plt.subplot(1, 3, 2)\n",
    "plt.plot(loss_curve2)\n",
    "plt.plot(val_loss2)\n",
    "plt.title('Loss Curve2')\n",
    "plt.xlabel('Epoch')\n",
    "plt.ylabel('Loss')\n",
    "plt.legend(['Training', 'Validation'], loc='right')\n",
    "\n",
    "plt.subplot(1, 3, 3)\n",
    "plt.plot(loss_curve3)\n",
    "plt.plot(val_loss3)\n",
    "plt.title('Loss Curve3')\n",
    "plt.xlabel('Epoch')\n",
    "plt.ylabel('Loss')\n",
    "plt.legend(['Training', 'Validation'], loc='right')\n",
    "\n",
    "plt.tight_layout()\n",
    "plt.show()"
   ]
  },
  {
   "attachments": {},
   "cell_type": "markdown",
   "metadata": {},
   "source": [
    "#### Jak widać krzywe dość mocno różnią się od tych zaprezentowanych w pierwszym podejściu. W kolejnym kroku sprawdzimy procenty poprawności zgadywania płci."
   ]
  },
  {
   "cell_type": "code",
   "execution_count": 31,
   "metadata": {},
   "outputs": [
    {
     "name": "stdout",
     "output_type": "stream",
     "text": [
      "Procent poprawności dla DTC w większej wersji drzewa:  0.9101568689589605 \n",
      "\n",
      "Procent poprawności dla DTC w mniejsze wersji drzewa:  0.885184598320393 \n",
      "\n",
      "Procent poprawności dla Naive Bayes:  0.3169386784978609 \n",
      "\n",
      "Procent poprawności dla KNN przy k=3:  0.9170971319917605 \n",
      "\n",
      "Procent poprawności dla KNN przy k=5:  0.9213436856282681 \n",
      "\n",
      "Procent poprawności dla KNN przy k=11:  0.9240057043257803 \n",
      "\n",
      "Procent poprawności dla MLP przy 2 neuronach w warstwie:  0.6832197749960387 \n",
      "\n",
      "Procent poprawności dla MLP przy 3 neuronach w warstwie:  0.7267627951196324 \n",
      "\n",
      "Procent poprawności dla MLP przy 2 warstwach z (6, 3) neuronami:  0.7358263349706861 \n",
      "\n"
     ]
    }
   ],
   "source": [
    "dtc_accuracy = dtc.score(test_inputs, test_classes)\n",
    "dtc2_accuracy = dtc2.score(test_inputs, test_classes)\n",
    "naive_bay_accuracy = naive_bay.score(test_inputs, test_classes)\n",
    "knn3_accuracy = knn3.score(test_inputs, test_classes)\n",
    "knn5_accuracy = knn5.score(test_inputs, test_classes)\n",
    "knn11_accuracy = knn11.score(test_inputs, test_classes)\n",
    "mlp_accuracy = mlp.score(test_inputs, test_classes)\n",
    "mlp2_accuracy = mlp2.score(test_inputs, test_classes)\n",
    "mlp3_accuracy = mlp3.score(test_inputs, test_classes)\n",
    "print(\"Procent poprawności dla DTC w większej wersji drzewa: \", dtc_accuracy, \"\\n\")\n",
    "print(\"Procent poprawności dla DTC w mniejsze wersji drzewa: \", dtc2_accuracy, \"\\n\")\n",
    "print(\"Procent poprawności dla Naive Bayes: \", naive_bay_accuracy, \"\\n\")\n",
    "print(\"Procent poprawności dla KNN przy k=3: \", knn3_accuracy, \"\\n\")\n",
    "print(\"Procent poprawności dla KNN przy k=5: \", knn5_accuracy, \"\\n\")\n",
    "print(\"Procent poprawności dla KNN przy k=11: \", knn11_accuracy, \"\\n\")\n",
    "print(\"Procent poprawności dla MLP przy 2 neuronach w warstwie: \", mlp_accuracy, \"\\n\")\n",
    "print(\"Procent poprawności dla MLP przy 3 neuronach w warstwie: \", mlp2_accuracy, \"\\n\")\n",
    "print(\"Procent poprawności dla MLP przy 2 warstwach z (6, 3) neuronami: \", mlp3_accuracy, \"\\n\")"
   ]
  },
  {
   "attachments": {},
   "cell_type": "markdown",
   "metadata": {},
   "source": [
    "#### Jak mogliśmy się spodziewać wyniki są o wiele słabsze. Naiwny Bayes wypadł najgorzej, 30 % poprawność nie jest zbyt zadowalająca.\n",
    "#### Na koniec macierze błędów."
   ]
  },
  {
   "cell_type": "code",
   "execution_count": 32,
   "metadata": {},
   "outputs": [
    {
     "name": "stdout",
     "output_type": "stream",
     "text": [
      "Macierz błędów dla DTC w większej wersji drzewa: \n",
      " [[ 8620  1376]\n",
      " [ 1459 20100]]\n",
      "Macierz błędów dla DTC w mniejsze wersji drzewa: \n",
      " [[ 7787  2209]\n",
      " [ 1414 20145]]\n",
      "Macierz błędów dla Naive Bayes: \n",
      " [[ 9995     1]\n",
      " [21553     6]]\n",
      "Macierz błędów dla KNN przy k=3: \n",
      " [[ 8834  1162]\n",
      " [ 1454 20105]]\n",
      "Macierz błędów dla KNN przy k=5: \n",
      " [[ 8902  1094]\n",
      " [ 1388 20171]]\n",
      "Macierz błędów dla KNN przy k=11: \n",
      " [[ 8949  1047]\n",
      " [ 1351 20208]]\n",
      "Macierz błędów dla MLP przy 2 neuronach w warstwie: \n",
      " [[    0  9996]\n",
      " [    0 21559]]\n",
      "Macierz błędow dla MLP przy 3 neuronach w warstwie: \n",
      " [[ 2395  7601]\n",
      " [ 1021 20538]]\n",
      "Macierz błędów dla MLP przy 2 warstwach z (6, 3) neuronami: \n",
      " [[ 2397  7599]\n",
      " [  737 20822]]\n"
     ]
    }
   ],
   "source": [
    "dtc_y_pred = dtc.predict(test_inputs)\n",
    "dtc2_y_pred = dtc2.predict(test_inputs)\n",
    "naive_bay_y_pred = naive_bay.predict(test_inputs)\n",
    "knn3_y_pred = knn3.predict(test_inputs)\n",
    "knn5_y_pred = knn5.predict(test_inputs)\n",
    "knn11_y_pred = knn11.predict(test_inputs)\n",
    "mlp_y_pred = mlp.predict(test_inputs)\n",
    "mlp2_y_pred = mlp2.predict(test_inputs)\n",
    "mlp3_y_pred = mlp3.predict(test_inputs)\n",
    "print(\"Macierz błędów dla DTC w większej wersji drzewa: \\n\", metrics.confusion_matrix(test_classes, dtc_y_pred))\n",
    "print(\"Macierz błędów dla DTC w mniejsze wersji drzewa: \\n\", metrics.confusion_matrix(test_classes, dtc2_y_pred))\n",
    "print(\"Macierz błędów dla Naive Bayes: \\n\", metrics.confusion_matrix(test_classes, naive_bay_y_pred))\n",
    "print(\"Macierz błędów dla KNN przy k=3: \\n\", metrics.confusion_matrix(test_classes, knn3_y_pred))\n",
    "print(\"Macierz błędów dla KNN przy k=5: \\n\", metrics.confusion_matrix(test_classes, knn5_y_pred))\n",
    "print(\"Macierz błędów dla KNN przy k=11: \\n\", metrics.confusion_matrix(test_classes, knn11_y_pred))\n",
    "print(\"Macierz błędów dla MLP przy 2 neuronach w warstwie: \\n\", metrics.confusion_matrix(test_classes, mlp_y_pred))\n",
    "print(\"Macierz błędow dla MLP przy 3 neuronach w warstwie: \\n\", metrics.confusion_matrix(test_classes, mlp2_y_pred))\n",
    "print(\"Macierz błędów dla MLP przy 2 warstwach z (6, 3) neuronami: \\n\", metrics.confusion_matrix(test_classes, mlp3_y_pred))"
   ]
  },
  {
   "attachments": {},
   "cell_type": "markdown",
   "metadata": {},
   "source": [
    "# 3 Podsumowanie\n",
    "## Jak widać w powyższych doświadczeniach, preprocessing jest nieodłącznym i kluczowym elementem analizy bazy danych. Zbliżone do siebie około 96 % wyniki przy pierwszym modelu. Dość mocno rozrzucone, od 90 do tylko 30 procent, wyniki poprawności drugiego modelu. Poddając analizie poszczególne klasyfikatory, bardzo dobrze w obu przypadkach wypadła metoda K-najbliższych sąsiadów oraz Drzewo Decyzyjne o większej złożoności. Sieci neuronowe nieco gorzej, na co dość duży wpływ mogły mieć testowane konfiguracje parametrów. Naiwny Bayes wydaje się zamykać stawkę, choć, przy idealnie oczyszczonych danych, radzi sobie również nienagannie.\n",
    "\n",
    "## Bibliografia:\n",
    "### https://scikit-learn.org/stable/modules/classes.html\n",
    "### https://www.kaggle.com/datasets\n",
    "### https://towardsdatascience.com/6-different-ways-to-compensate-for-missing-values-data-imputation-with-examples-6022d9ca0779\n",
    "### https://matplotlib.org/stable/index.html"
   ]
  }
 ],
 "metadata": {
  "kernelspec": {
   "display_name": ".venv",
   "language": "python",
   "name": "python3"
  },
  "language_info": {
   "codemirror_mode": {
    "name": "ipython",
    "version": 3
   },
   "file_extension": ".py",
   "mimetype": "text/x-python",
   "name": "python",
   "nbconvert_exporter": "python",
   "pygments_lexer": "ipython3",
   "version": "3.11.2"
  },
  "orig_nbformat": 4
 },
 "nbformat": 4,
 "nbformat_minor": 2
}
